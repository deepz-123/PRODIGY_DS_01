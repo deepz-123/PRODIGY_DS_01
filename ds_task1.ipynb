import pandas as pd
import matplotlib.pyplot as plt

# File path to your CSV
file_path = '/world_population_2000_2023.csv'

try:
    # Load the dataset
    df = pd.read_csv(file_path, sep=',',  on_bad_lines='skip')

    # Print the first few rows to check if the data was loaded correctly
    print(df.head())

except pd.errors.ParserError as e:
    # Handle any parsing errors and print the error message
    print("Error parsing CSV file:", e)

# Inspect data types and columns
print("\nColumns in DataFrame:\n", df.columns)
print("\nDataframe columns and types:\n", df.dtypes)

# Plot the distribution of genders (categorical variable)
try:
    # Assuming there is a 'Gender' column in your dataset
    gender_column = 'Gender'  # Update with the actual column name if different
    if gender_column in df.columns:
        gender_counts = df[gender_column].value_counts()
        plt.figure(figsize=(10, 5))
        gender_counts.plot(kind='bar', color='skyblue')

        # Add labels and title
        plt.xlabel('Gender')
        plt.ylabel('Count')
        plt.title('Distribution of Genders in the Dataset')

        # Show the plot
        plt.show()  # Ensure this displays the plot
    else:
        print(f"Column '{gender_column}' not found in the dataset.")

except KeyError as e:
    print(f"KeyError for {gender_column}: {e}. Please check column names in your dataset.")

# Plot the distribution of ages (continuous variable)
try:
    # Assuming there is an 'Age' column in your dataset
    age_column = 'Age_Group'  # Update with the actual column name if different
    if age_column in df.columns:
        # Convert 'Age_Group' column to numeric type, handling errors
        df['Age_Group'] = pd.to_numeric(df['Age_Group'], errors='coerce')

        plt.figure(figsize=(10, 5))
        df[age_column].dropna().plot(kind='hist', bins=20, color='lightgreen', edgecolor='black')

        # Add labels and title
        plt.xlabel('Age_Group')
        plt.ylabel('Population')
        plt.title('Distribution of Ages in the Dataset')

        # Show the plot
        plt.show()  # Ensure this displays the plot
    else:
        print(f"Column '{age_column}' not found in the dataset.")

except KeyError as e:
    print(f"KeyError for {age_column}: {e}. Please check column names in your dataset.")
